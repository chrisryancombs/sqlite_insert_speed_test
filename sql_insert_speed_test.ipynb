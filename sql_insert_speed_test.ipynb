{
 "cells": [
  {
   "cell_type": "code",
   "execution_count": 89,
   "metadata": {},
   "outputs": [],
   "source": [
    "import os\n",
    "import io\n",
    "import time\n",
    "import sqlite3"
   ]
  },
  {
   "cell_type": "code",
   "execution_count": 90,
   "metadata": {},
   "outputs": [],
   "source": [
    "iterations = 1000"
   ]
  },
  {
   "cell_type": "code",
   "execution_count": 98,
   "metadata": {},
   "outputs": [
    {
     "name": "stdout",
     "output_type": "stream",
     "text": [
      "MULTIPLE SINGLE-INSERTS ELAPSED TIME:  0.0063800811767578125\n"
     ]
    }
   ],
   "source": [
    "# TEST MULTIPLE SINGLE-INSERTS\n",
    "# this option is the second fastest when the database is empty\n",
    "# NOTE: i have seen this method outperform the executemany method on rare occasions\n",
    "if os.path.exists('/repostdb.sqlite'):\n",
    "    os.remove('/repostdb.sqlite')\n",
    "\n",
    "conn = sqlite3.connect('./repostdb.sqlite')\n",
    "c = conn.cursor()\n",
    "c.execute('CREATE TABLE IF NOT EXISTS Posts (Date INT, Content TEXT, Url TEXT, Location TEXT, Author TEXT, Title TEXT);')\n",
    "conn.commit()\n",
    "c.close()\n",
    "\n",
    "start = time.time()\n",
    "conn = sqlite3.connect('./repostdb.sqlite')\n",
    "c = conn.cursor()\n",
    "\n",
    "for i in range(iterations):\n",
    "    c.execute('INSERT INTO Posts (Date, Content, Url, Location, Author, Title) VALUES (?, ?, ?, ?, ?, ?);',\n",
    "        (24102018, 'CONTENT', 'URL', 'LOCATION', 'AUTHOR', 'TITLE'))\n",
    "    \n",
    "conn.commit()\n",
    "c.close()\n",
    "print(\"MULTIPLE SINGLE-INSERTS ELAPSED TIME: \", time.time() - start)"
   ]
  },
  {
   "cell_type": "code",
   "execution_count": 99,
   "metadata": {},
   "outputs": [
    {
     "name": "stdout",
     "output_type": "stream",
     "text": [
      "SINGLE MULTIPLE-INSERT ELAPSED TIME:  0.010954141616821289\n"
     ]
    }
   ],
   "source": [
    "# TEST SINGLE MULTIPLE-INSERT\n",
    "# this option is the slowest when the database is empty\n",
    "if os.path.exists('/repostdb.sqlite'):\n",
    "    os.remove('/repostdb.sqlite')\n",
    "\n",
    "conn = sqlite3.connect('./repostdb2.sqlite')\n",
    "c = conn.cursor()\n",
    "c.execute('CREATE TABLE IF NOT EXISTS Posts (Date INT, Content TEXT, Url TEXT, Location TEXT, Author TEXT, Title TEXT);')\n",
    "conn.commit()\n",
    "c.close()\n",
    "\n",
    "# begin test for multiple single inserts  \n",
    "start = time.time()\n",
    "conn = sqlite3.connect('./repostdb.sqlite')\n",
    "c = conn.cursor()\n",
    "\n",
    "rows = []\n",
    "for i in range(iterations):\n",
    "    rows.append((24102018, 'CONTENT', 'URL', 'LOCATION', 'AUTHOR', 'TITLE'))\n",
    "\n",
    "values = ', '.join(map(str, rows))\n",
    "c.execute('INSERT INTO Posts (Date, Content, Url, Location, Author, Title) VALUES {}'.format(values))\n",
    "    \n",
    "conn.commit()\n",
    "c.close()\n",
    "print(\"SINGLE MULTIPLE-INSERT ELAPSED TIME: \", time.time() - start)"
   ]
  },
  {
   "cell_type": "code",
   "execution_count": 100,
   "metadata": {},
   "outputs": [
    {
     "name": "stdout",
     "output_type": "stream",
     "text": [
      "EXECUTEMANY ELAPSED TIME:  0.0039370059967041016\n"
     ]
    }
   ],
   "source": [
    "# TEST EXECUTEMANY\n",
    "# this option is the fastest when the database is empty\n",
    "if os.path.exists('/repostdb.sqlite'):\n",
    "    os.remove('/repostdb.sqlite')\n",
    "\n",
    "conn = sqlite3.connect('./repostdb.sqlite')\n",
    "c = conn.cursor()\n",
    "c.execute('CREATE TABLE IF NOT EXISTS Posts (Date INT, Content TEXT, Url TEXT, Location TEXT, Author TEXT, Title TEXT);')\n",
    "conn.commit()\n",
    "c.close()\n",
    "\n",
    "# begin test for multiple single inserts  \n",
    "start = time.time()\n",
    "conn = sqlite3.connect('./repostdb.sqlite')\n",
    "c = conn.cursor()\n",
    "\n",
    "rows = []\n",
    "for i in range(iterations):\n",
    "    rows.append((24102018, 'CONTENT', 'URL', 'LOCATION', 'AUTHOR', 'TITLE'))\n",
    "\n",
    "c.executemany(\"INSERT INTO Posts (Date, Content, Url, Location, Author, Title) VALUES (?, ?, ?, ?, ?, ?)\", rows)\n",
    "\n",
    "conn.commit()\n",
    "c.close()\n",
    "print(\"EXECUTEMANY ELAPSED TIME: \", time.time() - start)"
   ]
  },
  {
   "cell_type": "code",
   "execution_count": 101,
   "metadata": {},
   "outputs": [],
   "source": [
    "# ===========================================================================\n",
    "# now we will do the same test, but with 100,000 rows already in the database\n",
    "# pls excuse this copy-paste job\n",
    "# ===========================================================================\n",
    "pop_iterations = 100000"
   ]
  },
  {
   "cell_type": "code",
   "execution_count": 102,
   "metadata": {},
   "outputs": [
    {
     "name": "stdout",
     "output_type": "stream",
     "text": [
      "MULTIPLE SINGLE-INSERTS ELAPSED TIME:  0.006088733673095703\n"
     ]
    }
   ],
   "source": [
    "# TEST MULTIPLE SINGLE-INSERTS WITH POPULATED DB\n",
    "# this option is the second fastest when the database is populated\n",
    "if os.path.exists('/repostdb.sqlite'):\n",
    "    os.remove('/repostdb.sqlite')\n",
    "\n",
    "conn = sqlite3.connect('./repostdb.sqlite')\n",
    "c = conn.cursor()\n",
    "c.execute('CREATE TABLE IF NOT EXISTS Posts (Date INT, Content TEXT, Url TEXT, Location TEXT, Author TEXT, Title TEXT);')\n",
    "# FILL THAT DB BBY\n",
    "for i in range(pop_iterations):\n",
    "    c.execute('INSERT INTO Posts (Date, Content, Url, Location, Author, Title) VALUES (?, ?, ?, ?, ?, ?);',\n",
    "        (24102018, 'CONTENT', 'URL', 'LOCATION', 'AUTHOR', 'TITLE'))\n",
    "conn.commit()\n",
    "c.close()\n",
    "\n",
    "start = time.time()\n",
    "conn = sqlite3.connect('./repostdb.sqlite')\n",
    "c = conn.cursor()\n",
    "\n",
    "for i in range(iterations):\n",
    "    c.execute('INSERT INTO Posts (Date, Content, Url, Location, Author, Title) VALUES (?, ?, ?, ?, ?, ?);',\n",
    "        (24102018, 'CONTENT', 'URL', 'LOCATION', 'AUTHOR', 'TITLE'))\n",
    "    \n",
    "conn.commit()\n",
    "c.close()\n",
    "print(\"MULTIPLE SINGLE-INSERTS ELAPSED TIME: \", time.time() - start)"
   ]
  },
  {
   "cell_type": "code",
   "execution_count": 103,
   "metadata": {},
   "outputs": [
    {
     "name": "stdout",
     "output_type": "stream",
     "text": [
      "SINGLE MULTIPLE-INSERT ELAPSED TIME:  0.00785684585571289\n"
     ]
    }
   ],
   "source": [
    "# TEST SINGLE MULTIPLE-INSERT WITH POPULATED DB\n",
    "# this option is the slowest when the database is populated\n",
    "if os.path.exists('/repostdb.sqlite'):\n",
    "    os.remove('/repostdb.sqlite')\n",
    "\n",
    "conn = sqlite3.connect('./repostdb2.sqlite')\n",
    "c = conn.cursor()\n",
    "c.execute('CREATE TABLE IF NOT EXISTS Posts (Date INT, Content TEXT, Url TEXT, Location TEXT, Author TEXT, Title TEXT);')\n",
    "for i in range(pop_iterations):\n",
    "    c.execute('INSERT INTO Posts (Date, Content, Url, Location, Author, Title) VALUES (?, ?, ?, ?, ?, ?);',\n",
    "        (24102018, 'CONTENT', 'URL', 'LOCATION', 'AUTHOR', 'TITLE'))\n",
    "conn.commit()\n",
    "c.close()\n",
    "\n",
    "# begin test for multiple single inserts  \n",
    "start = time.time()\n",
    "conn = sqlite3.connect('./repostdb.sqlite')\n",
    "c = conn.cursor()\n",
    "\n",
    "rows = []\n",
    "for i in range(iterations):\n",
    "    rows.append((24102018, 'CONTENT', 'URL', 'LOCATION', 'AUTHOR', 'TITLE'))\n",
    "\n",
    "values = ', '.join(map(str, rows))\n",
    "c.execute('INSERT INTO Posts (Date, Content, Url, Location, Author, Title) VALUES {}'.format(values))\n",
    "    \n",
    "conn.commit()\n",
    "c.close()\n",
    "print(\"SINGLE MULTIPLE-INSERT ELAPSED TIME: \", time.time() - start)"
   ]
  },
  {
   "cell_type": "code",
   "execution_count": 104,
   "metadata": {},
   "outputs": [
    {
     "name": "stdout",
     "output_type": "stream",
     "text": [
      "EXECUTEMANY ELAPSED TIME:  0.0033872127532958984\n"
     ]
    }
   ],
   "source": [
    "# TEST EXECUTEMANY WITH POPULATED DB\n",
    "# this option is the fastest when the database is populated\n",
    "if os.path.exists('/repostdb.sqlite'):\n",
    "    os.remove('/repostdb.sqlite')\n",
    "\n",
    "conn = sqlite3.connect('./repostdb.sqlite')\n",
    "c = conn.cursor()\n",
    "c.execute('CREATE TABLE IF NOT EXISTS Posts (Date INT, Content TEXT, Url TEXT, Location TEXT, Author TEXT, Title TEXT);')\n",
    "for i in range(pop_iterations):\n",
    "    c.execute('INSERT INTO Posts (Date, Content, Url, Location, Author, Title) VALUES (?, ?, ?, ?, ?, ?);',\n",
    "        (24102018, 'CONTENT', 'URL', 'LOCATION', 'AUTHOR', 'TITLE'))\n",
    "conn.commit()\n",
    "c.close()\n",
    "\n",
    "# begin test for multiple single inserts  \n",
    "start = time.time()\n",
    "conn = sqlite3.connect('./repostdb.sqlite')\n",
    "c = conn.cursor()\n",
    "\n",
    "rows = []\n",
    "for i in range(iterations):\n",
    "    rows.append((24102018, 'CONTENT', 'URL', 'LOCATION', 'AUTHOR', 'TITLE'))\n",
    "\n",
    "c.executemany(\"INSERT INTO Posts (Date, Content, Url, Location, Author, Title) VALUES (?, ?, ?, ?, ?, ?)\", rows)\n",
    "\n",
    "conn.commit()\n",
    "c.close()\n",
    "print(\"EXECUTEMANY ELAPSED TIME: \", time.time() - start)"
   ]
  },
  {
   "cell_type": "code",
   "execution_count": null,
   "metadata": {},
   "outputs": [],
   "source": []
  }
 ],
 "metadata": {
  "kernelspec": {
   "display_name": "Python 3",
   "language": "python",
   "name": "python3"
  },
  "language_info": {
   "codemirror_mode": {
    "name": "ipython",
    "version": 3
   },
   "file_extension": ".py",
   "mimetype": "text/x-python",
   "name": "python",
   "nbconvert_exporter": "python",
   "pygments_lexer": "ipython3",
   "version": "3.7.0"
  }
 },
 "nbformat": 4,
 "nbformat_minor": 2
}
