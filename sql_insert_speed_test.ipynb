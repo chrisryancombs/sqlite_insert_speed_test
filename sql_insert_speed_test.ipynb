{
 "cells": [
  {
   "cell_type": "code",
   "execution_count": 24,
   "metadata": {},
   "outputs": [],
   "source": [
    "import os\n",
    "import io\n",
    "import time\n",
    "import sqlite3"
   ]
  },
  {
   "cell_type": "code",
   "execution_count": 77,
   "metadata": {},
   "outputs": [],
   "source": [
    "# creates db and populates with 1,000,000 dummy rows if non-zero num passed in\n",
    "def pop_db(pop):\n",
    "    if os.path.exists('/repostdb.sqlite'):\n",
    "        os.remove('/repostdb.sqlite')\n",
    "\n",
    "    conn = sqlite3.connect('./repostdb.sqlite')\n",
    "    c = conn.cursor()\n",
    "    c.execute('CREATE TABLE IF NOT EXISTS Posts (Date INT, Content TEXT, Url TEXT, Location TEXT, Author TEXT, Title TEXT);')\n",
    "    if pop:\n",
    "        for i in range(1000000):\n",
    "            c.execute('INSERT INTO Posts (Date, Content, Url, Location, Author, Title) VALUES (?, ?, ?, ?, ?, ?);',\n",
    "                (24102018, 'CONTENT', 'URL', 'LOCATION', 'AUTHOR', 'TITLE'))\n",
    "    conn.commit()\n",
    "    c.close()"
   ]
  },
  {
   "cell_type": "code",
   "execution_count": 78,
   "metadata": {},
   "outputs": [],
   "source": [
    "# TEST MULTIPLE SINGLE-INSERTS\n",
    "def mult_sing(num_insert, pop):\n",
    "    pop_db(pop)\n",
    "\n",
    "    start = time.time()\n",
    "    conn = sqlite3.connect('./repostdb.sqlite')\n",
    "    c = conn.cursor()\n",
    "\n",
    "    for i in range(num_insert):\n",
    "        c.execute('INSERT INTO Posts (Date, Content, Url, Location, Author, Title) VALUES (?, ?, ?, ?, ?, ?);',\n",
    "            (24102018, 'CONTENT', 'URL', 'LOCATION', 'AUTHOR', 'TITLE'))\n",
    "\n",
    "    conn.commit()\n",
    "    c.close()\n",
    "    return (time.time() - start)"
   ]
  },
  {
   "cell_type": "code",
   "execution_count": 79,
   "metadata": {},
   "outputs": [],
   "source": [
    "# TEST SINGLE MULTIPLE-INSERT\n",
    "def sing_mult(num_insert, pop):\n",
    "    pop_db(pop)\n",
    "\n",
    "    start = time.time()\n",
    "    conn = sqlite3.connect('./repostdb.sqlite')\n",
    "    c = conn.cursor()\n",
    "\n",
    "    rows = []\n",
    "    for i in range(num_insert):\n",
    "        rows.append((24102018, 'CONTENT', 'URL', 'LOCATION', 'AUTHOR', 'TITLE'))\n",
    "\n",
    "    values = ', '.join(map(str, rows))\n",
    "    c.execute('INSERT INTO Posts (Date, Content, Url, Location, Author, Title) VALUES {}'.format(values))\n",
    "\n",
    "    conn.commit()\n",
    "    c.close()\n",
    "    return (time.time() - start)"
   ]
  },
  {
   "cell_type": "code",
   "execution_count": 80,
   "metadata": {},
   "outputs": [],
   "source": [
    "# TEST EXECUTEMANY\n",
    "def exec_many(num_insert, pop):\n",
    "    pop_db(pop)\n",
    "\n",
    "    start = time.time()\n",
    "    conn = sqlite3.connect('./repostdb.sqlite')\n",
    "    c = conn.cursor()\n",
    "\n",
    "    rows = []\n",
    "    for i in range(num_insert):\n",
    "        rows.append((24102018, 'CONTENT', 'URL', 'LOCATION', 'AUTHOR', 'TITLE'))\n",
    "    c.executemany(\"INSERT INTO Posts (Date, Content, Url, Location, Author, Title) VALUES (?, ?, ?, ?, ?, ?)\", rows)\n",
    "\n",
    "    conn.commit()\n",
    "    c.close()\n",
    "    return (time.time() - start)    "
   ]
  },
  {
   "cell_type": "code",
   "execution_count": 81,
   "metadata": {},
   "outputs": [],
   "source": [
    "def test_avg(func, test_iters, pop):\n",
    "    results = []\n",
    "    for i in range(50):\n",
    "        results.append(func(test_iters, pop))\n",
    "    return sum(results)/len(results)"
   ]
  },
  {
   "cell_type": "code",
   "execution_count": 82,
   "metadata": {},
   "outputs": [
    {
     "name": "stdout",
     "output_type": "stream",
     "text": [
      "MULTIPLE SINGLE-INSERTS (EMPTY) ELAPSED TIME:      0.0352266263961792\n",
      "SINGLE MULTIPLE-INSERT (EMPTY) ELAPSED TIME:       0.08103799819946289\n",
      "EXECUTEMANY (EMPTY) ELAPSED  TIME:                 0.023240842819213868\n",
      "MULTIPLE SINGLE-INSERTS (POPULATED) ELAPSED TIME:  0.036230764389038085\n",
      "SINGLE MULTIPLE-INSERT (POPULATED) ELAPSED TIME:   0.08659755706787109\n",
      "EXECUTEMANY (POPULATED) ELAPSED TIME:              0.023484020233154296\n"
     ]
    }
   ],
   "source": [
    "print(\"MULTIPLE SINGLE-INSERTS (EMPTY) ELAPSED TIME:     \", test_avg(mult_sing, 10000, False))\n",
    "print(\"SINGLE MULTIPLE-INSERT (EMPTY) ELAPSED TIME:      \", test_avg(sing_mult, 10000, False))\n",
    "print(\"EXECUTEMANY (EMPTY) ELAPSED  TIME:                \", test_avg(exec_many, 10000, False))\n",
    "print(\"MULTIPLE SINGLE-INSERTS (POPULATED) ELAPSED TIME: \", test_avg(mult_sing, 10000, True))\n",
    "print(\"SINGLE MULTIPLE-INSERT (POPULATED) ELAPSED TIME:  \", test_avg(sing_mult, 10000, True))\n",
    "print(\"EXECUTEMANY (POPULATED) ELAPSED TIME:             \", test_avg(exec_many, 10000, True))"
   ]
  },
  {
   "cell_type": "code",
   "execution_count": null,
   "metadata": {},
   "outputs": [],
   "source": []
  }
 ],
 "metadata": {
  "kernelspec": {
   "display_name": "Python 3",
   "language": "python",
   "name": "python3"
  },
  "language_info": {
   "codemirror_mode": {
    "name": "ipython",
    "version": 3
   },
   "file_extension": ".py",
   "mimetype": "text/x-python",
   "name": "python",
   "nbconvert_exporter": "python",
   "pygments_lexer": "ipython3",
   "version": "3.7.0"
  }
 },
 "nbformat": 4,
 "nbformat_minor": 2
}
